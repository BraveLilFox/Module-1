{
 "cells": [
  {
   "cell_type": "code",
   "execution_count": 2,
   "id": "e70340a2-9f4b-4da2-8265-bf3c95969f97",
   "metadata": {},
   "outputs": [],
   "source": [
    "# --------------------------------------------------------------------------\n",
    "# 11.1 Create a file called zoo.py. In it, define a function called hours() \n",
    "# that prints the string 'Open 9-5 daily'. Then, use the interactive \n",
    "# interpreter to import the zoo module and call its hours() function.\n",
    "# --------------------------------------------------------------------------\n",
    "\n",
    "def hours():\n",
    "    print(\"Open 9-5 daily\")\n",
    "\n",
    "# import strategy\n",
    ">>> import zoo\n",
    ">>> zoo.hours()\n",
    "Open 9-5 daily"
   ]
  },
  {
   "cell_type": "code",
   "execution_count": 4,
   "id": "05bb47fb-22ee-40b0-af8c-c9c5020e2794",
   "metadata": {},
   "outputs": [],
   "source": [
    "# --------------------------------------------------------------------------\n",
    "# 11.2 In the interactive interpreter, import the zoo module as menagerie \n",
    "# and call its hours() function.\n",
    "# --------------------------------------------------------------------------\n",
    "\n",
    ">>> import zoo as menagerie\n",
    ">>> menagerie.hours()\n",
    "Open 9-5 daily"
   ]
  },
  {
   "cell_type": "code",
   "execution_count": null,
   "id": "f990228d-06f0-42ba-8e50-17f007c0ca39",
   "metadata": {},
   "outputs": [],
   "source": [
    "# --------------------------------------------------------------------------\n",
    "# 16.8 Use the sqlalchemy module to connect to the sqlite3 database books.db \n",
    "# that you just made in exercise 16.4. As in 16.6, select and print the \n",
    "# title column from the book table in alphabetical order.\n",
    "# --------------------------------------------------------------------------\n",
    "\n",
    "from sqlalchemy import create_engine, MetaData, Table, select\n",
    "\n",
    "# connection to the database\n",
    "engine = create_engine('sqlite:///books.db')\n",
    "connection = engine.connect()\n",
    "\n",
    "# reflect this within the tables\n",
    "metadata = MetaData()\n",
    "books = Table('book', metadata, autoload_with=engine)\n",
    "\n",
    "# build the query (select titles, and order them alphabetically)\n",
    "stmt = select(books.c.title).order_by(books.c.title)\n",
    "\n",
    "# execute and fetch results\n",
    "results = connection.execute(stmt).fetchall()\n",
    "\n",
    "# print each title\n",
    "for row in results:\n",
    "    print(row.title)\n",
    "\n",
    "connection.close()"
   ]
  }
 ],
 "metadata": {
  "kernelspec": {
   "display_name": "Python [conda env:base] *",
   "language": "python",
   "name": "conda-base-py"
  },
  "language_info": {
   "codemirror_mode": {
    "name": "ipython",
    "version": 3
   },
   "file_extension": ".py",
   "mimetype": "text/x-python",
   "name": "python",
   "nbconvert_exporter": "python",
   "pygments_lexer": "ipython3",
   "version": "3.13.5"
  }
 },
 "nbformat": 4,
 "nbformat_minor": 5
}
