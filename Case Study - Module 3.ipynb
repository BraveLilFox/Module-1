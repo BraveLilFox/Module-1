{
 "cells": [
  {
   "cell_type": "code",
   "execution_count": null,
   "id": "c2f3485a-2e01-4c3c-bddd-5375f10d6c5b",
   "metadata": {},
   "outputs": [],
   "source": [
    "class Vehicle:\n",
    "    def __init__(self, vehicle_type):\n",
    "        self.vehicle_type = vehicle_type\n",
    "\n",
    "\n",
    "class Automobile(Vehicle):\n",
    "    def __init__(self, vehicle_type, year, make, model, doors, roof):\n",
    "        super().__init__(vehicle_type)\n",
    "        self.year = year\n",
    "        self.make = make\n",
    "        self.model = model\n",
    "        self.doors = doors\n",
    "        self.roof = roof\n",
    "\n",
    "\n",
    "def main():\n",
    "    print(\"Welcome to the Vehicle Info App\")\n",
    "    print(\"Enter car details. Type QUIT at 'Year' to stop.\\n\")\n",
    "\n",
    "    while True:\n",
    "        year = input(\"Year: \")\n",
    "        if year.strip().upper() == \"QUIT\":\n",
    "            print(\"\\nExiting program. Goodbye!\")\n",
    "            break\n",
    "\n",
    "        make = input(\"Make: \")\n",
    "        model = input(\"Model: \")\n",
    "        doors = input(\"Number of doors (2 or 4): \")\n",
    "        roof = input(\"Type of roof (solid or sun roof): \")\n",
    "\n",
    "        # Always store vehicle_type as \"car\"\n",
    "        car = Automobile(\"car\", year, make, model, doors, roof)\n",
    "\n",
    "        # Display car info\n",
    "        print(\"\\nVehicle Information\")\n",
    "        print(\"  Vehicle type:\", car.vehicle_type)\n",
    "        print(\"  Year:\", car.year)\n",
    "        print(\"  Make:\", car.make)\n",
    "        print(\"  Model:\", car.model)\n",
    "        print(\"  Number of doors:\", car.doors)\n",
    "        print(\"  Type of roof:\", car.roof)\n",
    "        print(\"-\" * 40, \"\\n\")  # separator between entries\n",
    "\n",
    "\n",
    "if __name__ == \"__main__\":\n",
    "    main()\n"
   ]
  }
 ],
 "metadata": {
  "kernelspec": {
   "display_name": "Python [conda env:base] *",
   "language": "python",
   "name": "conda-base-py"
  },
  "language_info": {
   "codemirror_mode": {
    "name": "ipython",
    "version": 3
   },
   "file_extension": ".py",
   "mimetype": "text/x-python",
   "name": "python",
   "nbconvert_exporter": "python",
   "pygments_lexer": "ipython3",
   "version": "3.13.5"
  }
 },
 "nbformat": 4,
 "nbformat_minor": 5
}
