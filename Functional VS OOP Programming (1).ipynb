{
 "cells": [
  {
   "cell_type": "code",
   "execution_count": 4,
   "id": "95aaef5f-b508-4d15-91d4-267aa74423d3",
   "metadata": {},
   "outputs": [],
   "source": [
    "# OOP Programming:\n",
    "\n",
    "class Solution:\n",
    "    def sort012(self, arr):\n",
    "        count0 = count1 = count2 = 0\n",
    "\n",
    "        # count 0s, 1s, 2s\n",
    "        for num in arr:\n",
    "            if num == 0:\n",
    "                count0 += 1\n",
    "            elif num == 1:\n",
    "                count1 += 1\n",
    "            else:\n",
    "                count2 += 1\n",
    "\n",
    "        # overwrite array in sorted order\n",
    "        index = 0\n",
    "        for _ in range(count0):\n",
    "            arr[index] = 0\n",
    "            index += 1\n",
    "        for _ in range(count1):\n",
    "            arr[index] = 1\n",
    "            index += 1\n",
    "        for _ in range(count2):\n",
    "            arr[index] = 2\n",
    "            index += 1\n",
    "\n",
    "        return arr"
   ]
  },
  {
   "cell_type": "code",
   "execution_count": null,
   "id": "9d9c003d-a8ee-4664-843b-227d081f6c87",
   "metadata": {},
   "outputs": [],
   "source": [
    "# Functional Programming\n",
    "\n",
    "class Solution:\n",
    "    def binarysearch(self, arr, k):\n",
    "        low, high = 0, len(arr) - 1\n",
    "        result = -1\n",
    "\n",
    "        while low <= high:\n",
    "            mid = (low + high) // 2\n",
    "\n",
    "            if arr[mid] == k:\n",
    "                result = mid     \n",
    "                high = mid - 1     \n",
    "            elif arr[mid] < k:\n",
    "                low = mid + 1\n",
    "            else:\n",
    "                high = mid - 1\n",
    "\n",
    "        return result"
   ]
  }
 ],
 "metadata": {
  "kernelspec": {
   "display_name": "Python [conda env:base] *",
   "language": "python",
   "name": "conda-base-py"
  },
  "language_info": {
   "codemirror_mode": {
    "name": "ipython",
    "version": 3
   },
   "file_extension": ".py",
   "mimetype": "text/x-python",
   "name": "python",
   "nbconvert_exporter": "python",
   "pygments_lexer": "ipython3",
   "version": "3.13.5"
  }
 },
 "nbformat": 4,
 "nbformat_minor": 5
}
