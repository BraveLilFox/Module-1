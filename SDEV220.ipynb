{
 "cells": [
  {
   "cell_type": "code",
   "execution_count": null,
   "id": "703142ea-ee11-41c0-9293-8cf8f66db170",
   "metadata": {},
   "outputs": [],
   "source": [
    "\n",
    "\n",
    "This chapter introduced the atoms of Python: numbers, booleans, and variables. Let’s try a few small exercises with them in the interactive interpreter.\n",
    "\n",
    "3.1 How many seconds are in an hour? Use the interactive interpreter as a calculator and multiply the number of seconds in a minute (60) by the number of minutes in an hour (also 60).\n",
    "Answer: \n",
    "60 * 60 = 3600\n",
    "\n",
    "3.2 Assign the result from the previous task (seconds in an hour) to a variable called seconds_per_hour.\n",
    "Answer:\n",
    "seconds_per_hour = 60 * 60\n",
    "print(seconds_per__hour) #3600\n",
    "\n",
    "3.3 How many seconds are in a day? Use your seconds_per_hour variable.\n",
    "Answer:\n",
    "24 * seconds_per_hour\n",
    "\n",
    "3.4 Calculate seconds per day again, but this time save the result in a variable called seconds_per_day.\n",
    "Answer:\n",
    "seconds_per_day = 24 * seconds_per_hour\n",
    "print(seconds) #\n",
    "\n",
    "3.5 Divide seconds_per_day by seconds_per_hour. Use floating-point (/) division.\n",
    "\n",
    "3.6 Divide seconds_per_day by seconds_per_hour, using integer (//) division. Did this number agree with the floating-point value from the previous question, aside from the final .0?"
   ]
  }
 ],
 "metadata": {
  "kernelspec": {
   "display_name": "Python [conda env:base] *",
   "language": "python",
   "name": "conda-base-py"
  },
  "language_info": {
   "codemirror_mode": {
    "name": "ipython",
    "version": 3
   },
   "file_extension": ".py",
   "mimetype": "text/x-python",
   "name": "python",
   "nbconvert_exporter": "python",
   "pygments_lexer": "ipython3",
   "version": "3.13.5"
  }
 },
 "nbformat": 4,
 "nbformat_minor": 5
}
